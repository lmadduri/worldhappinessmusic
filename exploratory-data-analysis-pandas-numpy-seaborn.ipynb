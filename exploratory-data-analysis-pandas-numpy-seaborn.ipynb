{
 "cells": [
  {
   "cell_type": "markdown",
   "metadata": {},
   "source": [
    "Exploratory data analysis"
   ]
  },
  {
   "cell_type": "markdown",
   "metadata": {},
   "source": [
    "Let's just look at 2019 and see what kind of data we are dealing with\n",
    "\n",
    "- Do we have 1000 or 1 million entries in our data ?\n",
    "- Are we dealing with text or numbers ?\n",
    "- Do we have dates ? What format to these dates have ?\n",
    "- Do we have outliers ? (Data points that are extremely different than all the other ones)\n",
    "- Do we have missing data ? That is, is any of the cells in our dataset empty ?"
   ]
  },
  {
   "cell_type": "code",
   "execution_count": 1,
   "metadata": {},
   "outputs": [],
   "source": [
    "import pandas as pd\n",
    "df = pd.read_csv(\"/Users/lalitha/Downloads/happiness/2019.csv\")"
   ]
  },
  {
   "cell_type": "code",
   "execution_count": 2,
   "metadata": {},
   "outputs": [
    {
     "data": {
      "text/html": [
       "<div>\n",
       "<style scoped>\n",
       "    .dataframe tbody tr th:only-of-type {\n",
       "        vertical-align: middle;\n",
       "    }\n",
       "\n",
       "    .dataframe tbody tr th {\n",
       "        vertical-align: top;\n",
       "    }\n",
       "\n",
       "    .dataframe thead th {\n",
       "        text-align: right;\n",
       "    }\n",
       "</style>\n",
       "<table border=\"1\" class=\"dataframe\">\n",
       "  <thead>\n",
       "    <tr style=\"text-align: right;\">\n",
       "      <th></th>\n",
       "      <th>Overall rank</th>\n",
       "      <th>Country or region</th>\n",
       "      <th>Score</th>\n",
       "      <th>GDP per capita</th>\n",
       "      <th>Social support</th>\n",
       "      <th>Healthy life expectancy</th>\n",
       "      <th>Freedom to make life choices</th>\n",
       "      <th>Generosity</th>\n",
       "      <th>Perceptions of corruption</th>\n",
       "    </tr>\n",
       "  </thead>\n",
       "  <tbody>\n",
       "    <tr>\n",
       "      <th>0</th>\n",
       "      <td>1</td>\n",
       "      <td>Finland</td>\n",
       "      <td>7.77</td>\n",
       "      <td>1.34</td>\n",
       "      <td>1.59</td>\n",
       "      <td>0.99</td>\n",
       "      <td>0.60</td>\n",
       "      <td>0.15</td>\n",
       "      <td>0.39</td>\n",
       "    </tr>\n",
       "    <tr>\n",
       "      <th>1</th>\n",
       "      <td>2</td>\n",
       "      <td>Denmark</td>\n",
       "      <td>7.60</td>\n",
       "      <td>1.38</td>\n",
       "      <td>1.57</td>\n",
       "      <td>1.00</td>\n",
       "      <td>0.59</td>\n",
       "      <td>0.25</td>\n",
       "      <td>0.41</td>\n",
       "    </tr>\n",
       "    <tr>\n",
       "      <th>2</th>\n",
       "      <td>3</td>\n",
       "      <td>Norway</td>\n",
       "      <td>7.55</td>\n",
       "      <td>1.49</td>\n",
       "      <td>1.58</td>\n",
       "      <td>1.03</td>\n",
       "      <td>0.60</td>\n",
       "      <td>0.27</td>\n",
       "      <td>0.34</td>\n",
       "    </tr>\n",
       "  </tbody>\n",
       "</table>\n",
       "</div>"
      ],
      "text/plain": [
       "   Overall rank Country or region  Score  GDP per capita  Social support  \\\n",
       "0             1           Finland   7.77            1.34            1.59   \n",
       "1             2           Denmark   7.60            1.38            1.57   \n",
       "2             3            Norway   7.55            1.49            1.58   \n",
       "\n",
       "   Healthy life expectancy  Freedom to make life choices  Generosity  \\\n",
       "0                     0.99                          0.60        0.15   \n",
       "1                     1.00                          0.59        0.25   \n",
       "2                     1.03                          0.60        0.27   \n",
       "\n",
       "   Perceptions of corruption  \n",
       "0                       0.39  \n",
       "1                       0.41  \n",
       "2                       0.34  "
      ]
     },
     "execution_count": 2,
     "metadata": {},
     "output_type": "execute_result"
    }
   ],
   "source": [
    "#let's set the precision to 2 decimal places\n",
    "pd.set_option(\"display.precision\", 2)\n",
    "\n",
    "#the first 3 rows of our pandas DataFrame object\n",
    "#if we run df.head(), it will display the first 5 rows by default\n",
    "df.head(3)"
   ]
  },
  {
   "cell_type": "markdown",
   "metadata": {},
   "source": [
    "Let's find maxiumum of all happiness scores"
   ]
  },
  {
   "cell_type": "code",
   "execution_count": 20,
   "metadata": {},
   "outputs": [
    {
     "data": {
      "text/plain": [
       "7.769"
      ]
     },
     "execution_count": 20,
     "metadata": {},
     "output_type": "execute_result"
    }
   ],
   "source": [
    "#Let's import the numpy library\n",
    "import numpy as np\n",
    "\n",
    "#and use a numpy function to see what's the maximum value for our Ladder score feature\n",
    "np.max(df[\"Score\"])"
   ]
  },
  {
   "cell_type": "code",
   "execution_count": 21,
   "metadata": {},
   "outputs": [
    {
     "data": {
      "text/plain": [
       "0"
      ]
     },
     "execution_count": 21,
     "metadata": {},
     "output_type": "execute_result"
    }
   ],
   "source": [
    "df['Score'].idxmax()"
   ]
  },
  {
   "cell_type": "code",
   "execution_count": 23,
   "metadata": {},
   "outputs": [
    {
     "data": {
      "text/plain": [
       "Overall rank                          1\n",
       "Country or region               Finland\n",
       "Score                               7.8\n",
       "GDP per capita                      1.3\n",
       "Social support                      1.6\n",
       "Healthy life expectancy            0.99\n",
       "Freedom to make life choices        0.6\n",
       "Generosity                         0.15\n",
       "Perceptions of corruption          0.39\n",
       "Name: 0, dtype: object"
      ]
     },
     "execution_count": 23,
     "metadata": {},
     "output_type": "execute_result"
    }
   ],
   "source": [
    "df.iloc[df['Score'].idxmax()]"
   ]
  },
  {
   "cell_type": "code",
   "execution_count": 24,
   "metadata": {},
   "outputs": [
    {
     "name": "stdout",
     "output_type": "stream",
     "text": [
      "<class 'pandas.core.frame.DataFrame'>\n",
      "RangeIndex: 156 entries, 0 to 155\n",
      "Data columns (total 9 columns):\n",
      "Overall rank                    156 non-null int64\n",
      "Country or region               156 non-null object\n",
      "Score                           156 non-null float64\n",
      "GDP per capita                  156 non-null float64\n",
      "Social support                  156 non-null float64\n",
      "Healthy life expectancy         156 non-null float64\n",
      "Freedom to make life choices    156 non-null float64\n",
      "Generosity                      156 non-null float64\n",
      "Perceptions of corruption       156 non-null float64\n",
      "dtypes: float64(7), int64(1), object(1)\n",
      "memory usage: 11.1+ KB\n"
     ]
    }
   ],
   "source": [
    "#DataFrame has this very handy method.\n",
    "df.info()"
   ]
  },
  {
   "cell_type": "code",
   "execution_count": 26,
   "metadata": {},
   "outputs": [
    {
     "name": "stdout",
     "output_type": "stream",
     "text": [
      "Finland\n"
     ]
    }
   ],
   "source": [
    "print(df['Country or region'][0])"
   ]
  },
  {
   "cell_type": "markdown",
   "metadata": {},
   "source": [
    "Exploring categorical features\n",
    "\n",
    "We have 2 features which contain text:\n",
    "- Country\n",
    "- Region\n",
    "\n",
    "By country\n",
    "\n",
    "Our intuition is that each country is unique in our dataset (one country per row). This is what we would expect from a study of happiness levels in different countries across the worls. We can verify this assumption, to make sure we don't have errors in our data. "
   ]
  },
  {
   "cell_type": "code",
   "execution_count": 29,
   "metadata": {},
   "outputs": [
    {
     "data": {
      "text/plain": [
       "Bolivia                1\n",
       "Saudi Arabia           1\n",
       "Denmark                1\n",
       "Slovenia               1\n",
       "Chad                   1\n",
       "                      ..\n",
       "Congo (Brazzaville)    1\n",
       "Ghana                  1\n",
       "Morocco                1\n",
       "Tajikistan             1\n",
       "Gabon                  1\n",
       "Name: Country or region, Length: 156, dtype: int64"
      ]
     },
     "execution_count": 29,
     "metadata": {},
     "output_type": "execute_result"
    }
   ],
   "source": [
    "#how many entries we have for each country\n",
    "#shown in descending order (highest value first)\n",
    "df[\"Country or region\"].value_counts().sort_values(ascending = False)"
   ]
  },
  {
   "cell_type": "code",
   "execution_count": null,
   "metadata": {},
   "outputs": [],
   "source": [
    "#Uncomment the line below to see what data type we used. This is a nice way to explore the functioning of pandas.\n",
    "#print(\"\\nThe code above returns a date of type: \", type(df['Country name'].value_counts()))"
   ]
  },
  {
   "cell_type": "code",
   "execution_count": null,
   "metadata": {},
   "outputs": [],
   "source": [
    "#here's each individual region and its corresponding frequency (the statistical term \n",
    "#for the number of times this region appears in our dataset)\n",
    "df['Regional indicator'].value_counts()"
   ]
  },
  {
   "cell_type": "code",
   "execution_count": null,
   "metadata": {},
   "outputs": [],
   "source": [
    "#we have 10 regions and pandas DataFrame has a method to find this out\n",
    "print(f\"The number of regions in our dataset is: {df['Regional indicator'].nunique()}\")"
   ]
  },
  {
   "cell_type": "markdown",
   "metadata": {},
   "source": [
    "I just used Python's fancy formatting in the line of code above. If you like it and want to read more, know that it's called Literal String Interpolation (but the popular name is f-string). You can read more [here](https://www.programiz.com/python-programming/string-interpolation)."
   ]
  },
  {
   "cell_type": "code",
   "execution_count": 30,
   "metadata": {},
   "outputs": [
    {
     "data": {
      "text/html": [
       "<div>\n",
       "<style scoped>\n",
       "    .dataframe tbody tr th:only-of-type {\n",
       "        vertical-align: middle;\n",
       "    }\n",
       "\n",
       "    .dataframe tbody tr th {\n",
       "        vertical-align: top;\n",
       "    }\n",
       "\n",
       "    .dataframe thead th {\n",
       "        text-align: right;\n",
       "    }\n",
       "</style>\n",
       "<table border=\"1\" class=\"dataframe\">\n",
       "  <thead>\n",
       "    <tr style=\"text-align: right;\">\n",
       "      <th></th>\n",
       "      <th>Overall rank</th>\n",
       "      <th>Score</th>\n",
       "      <th>GDP per capita</th>\n",
       "      <th>Social support</th>\n",
       "      <th>Healthy life expectancy</th>\n",
       "      <th>Freedom to make life choices</th>\n",
       "      <th>Generosity</th>\n",
       "      <th>Perceptions of corruption</th>\n",
       "    </tr>\n",
       "  </thead>\n",
       "  <tbody>\n",
       "    <tr>\n",
       "      <td>count</td>\n",
       "      <td>156.00</td>\n",
       "      <td>156.00</td>\n",
       "      <td>156.00</td>\n",
       "      <td>156.00</td>\n",
       "      <td>156.00</td>\n",
       "      <td>156.00</td>\n",
       "      <td>156.00</td>\n",
       "      <td>156.00</td>\n",
       "    </tr>\n",
       "    <tr>\n",
       "      <td>mean</td>\n",
       "      <td>78.50</td>\n",
       "      <td>5.41</td>\n",
       "      <td>0.91</td>\n",
       "      <td>1.21</td>\n",
       "      <td>0.73</td>\n",
       "      <td>0.39</td>\n",
       "      <td>0.18</td>\n",
       "      <td>0.11</td>\n",
       "    </tr>\n",
       "    <tr>\n",
       "      <td>std</td>\n",
       "      <td>45.18</td>\n",
       "      <td>1.11</td>\n",
       "      <td>0.40</td>\n",
       "      <td>0.30</td>\n",
       "      <td>0.24</td>\n",
       "      <td>0.14</td>\n",
       "      <td>0.10</td>\n",
       "      <td>0.09</td>\n",
       "    </tr>\n",
       "    <tr>\n",
       "      <td>min</td>\n",
       "      <td>1.00</td>\n",
       "      <td>2.85</td>\n",
       "      <td>0.00</td>\n",
       "      <td>0.00</td>\n",
       "      <td>0.00</td>\n",
       "      <td>0.00</td>\n",
       "      <td>0.00</td>\n",
       "      <td>0.00</td>\n",
       "    </tr>\n",
       "    <tr>\n",
       "      <td>25%</td>\n",
       "      <td>39.75</td>\n",
       "      <td>4.54</td>\n",
       "      <td>0.60</td>\n",
       "      <td>1.06</td>\n",
       "      <td>0.55</td>\n",
       "      <td>0.31</td>\n",
       "      <td>0.11</td>\n",
       "      <td>0.05</td>\n",
       "    </tr>\n",
       "    <tr>\n",
       "      <td>50%</td>\n",
       "      <td>78.50</td>\n",
       "      <td>5.38</td>\n",
       "      <td>0.96</td>\n",
       "      <td>1.27</td>\n",
       "      <td>0.79</td>\n",
       "      <td>0.42</td>\n",
       "      <td>0.18</td>\n",
       "      <td>0.09</td>\n",
       "    </tr>\n",
       "    <tr>\n",
       "      <td>75%</td>\n",
       "      <td>117.25</td>\n",
       "      <td>6.18</td>\n",
       "      <td>1.23</td>\n",
       "      <td>1.45</td>\n",
       "      <td>0.88</td>\n",
       "      <td>0.51</td>\n",
       "      <td>0.25</td>\n",
       "      <td>0.14</td>\n",
       "    </tr>\n",
       "    <tr>\n",
       "      <td>max</td>\n",
       "      <td>156.00</td>\n",
       "      <td>7.77</td>\n",
       "      <td>1.68</td>\n",
       "      <td>1.62</td>\n",
       "      <td>1.14</td>\n",
       "      <td>0.63</td>\n",
       "      <td>0.57</td>\n",
       "      <td>0.45</td>\n",
       "    </tr>\n",
       "  </tbody>\n",
       "</table>\n",
       "</div>"
      ],
      "text/plain": [
       "       Overall rank   Score  GDP per capita  Social support  \\\n",
       "count        156.00  156.00          156.00          156.00   \n",
       "mean          78.50    5.41            0.91            1.21   \n",
       "std           45.18    1.11            0.40            0.30   \n",
       "min            1.00    2.85            0.00            0.00   \n",
       "25%           39.75    4.54            0.60            1.06   \n",
       "50%           78.50    5.38            0.96            1.27   \n",
       "75%          117.25    6.18            1.23            1.45   \n",
       "max          156.00    7.77            1.68            1.62   \n",
       "\n",
       "       Healthy life expectancy  Freedom to make life choices  Generosity  \\\n",
       "count                   156.00                        156.00      156.00   \n",
       "mean                      0.73                          0.39        0.18   \n",
       "std                       0.24                          0.14        0.10   \n",
       "min                       0.00                          0.00        0.00   \n",
       "25%                       0.55                          0.31        0.11   \n",
       "50%                       0.79                          0.42        0.18   \n",
       "75%                       0.88                          0.51        0.25   \n",
       "max                       1.14                          0.63        0.57   \n",
       "\n",
       "       Perceptions of corruption  \n",
       "count                     156.00  \n",
       "mean                        0.11  \n",
       "std                         0.09  \n",
       "min                         0.00  \n",
       "25%                         0.05  \n",
       "50%                         0.09  \n",
       "75%                         0.14  \n",
       "max                         0.45  "
      ]
     },
     "execution_count": 30,
     "metadata": {},
     "output_type": "execute_result"
    }
   ],
   "source": [
    "df.describe()"
   ]
  },
  {
   "cell_type": "markdown",
   "metadata": {},
   "source": [
    "Insights from the descriptive statistics above:\n",
    "- Ladder score actually goes from 2.5 to 7.8. There's no 0 or 10. \n",
    "- Healthy life expectancy has a minimum of 45 and a maximum of 76. This is a large range. There are countries in our dataset where life expenctancy is 45 years !\n",
    "- Generosity can be negative. It's the only feature that has negative values.  \n",
    "- Other features are more difficult to interpret from the descriptive stats above."
   ]
  },
  {
   "cell_type": "code",
   "execution_count": 15,
   "metadata": {},
   "outputs": [],
   "source": [
    "twenty17 = pd.read_csv('/Users/lalitha/Downloads/input/2017.csv')\n",
    "twenty18 = pd.read_csv('/Users/lalitha/Downloads/input/2018.csv')\n",
    "twenty19 = pd.read_csv('/Users/lalitha/Downloads/input/2019.csv')\n",
    "twenty20 = pd.read_csv('/Users/lalitha/Downloads/input/2020.csv')"
   ]
  },
  {
   "cell_type": "code",
   "execution_count": 16,
   "metadata": {},
   "outputs": [
    {
     "data": {
      "text/plain": [
       "(153, 20)"
      ]
     },
     "execution_count": 16,
     "metadata": {},
     "output_type": "execute_result"
    }
   ],
   "source": [
    "twenty20.shape"
   ]
  },
  {
   "cell_type": "code",
   "execution_count": null,
   "metadata": {},
   "outputs": [],
   "source": [
    "twenty20.head(5)\n",
    "twenty20.tail(5)\n",
    "twenty20.duplicated().sum()\n",
    "twenty20.describe()\n",
    "twenty20.isnull().sum() "
   ]
  },
  {
   "cell_type": "code",
   "execution_count": null,
   "metadata": {},
   "outputs": [],
   "source": [
    "col_names_dict = {'Country name':'Country', 'Regional indicator':'Region',\n",
    "                  'Standard error of ladder score':'Standard Error', 'Logged GDP per capita':'Logged GDPPC',\n",
    "                  'Social support':'Social Support', 'Healthy life expectancy':'Life Expectancy',\n",
    "                  'Freedom to make life choices':'Freedom', 'Perceptions of corruption': 'Corruption'}\n",
    "\n",
    "twenty.rename(columns = col_names_dict, inplace = True)"
   ]
  },
  {
   "cell_type": "code",
   "execution_count": null,
   "metadata": {},
   "outputs": [],
   "source": [
    "\n",
    "# UNUSED: A CORRELATION MATRIX\n",
    "fig = plt.figure(figsize = (13, 10))\n",
    "plt.style.use('seaborn-white')\n",
    "\n",
    "plt.matshow(df.corr(), fignum = fig.number, cmap = 'viridis')\n",
    "plt.xticks(range(df.shape[1]), df.columns, fontsize=14, rotation=45)\n",
    "plt.yticks(range(df.shape[1]), df.columns, fontsize=14)\n",
    "\n",
    "cb = plt.colorbar()\n",
    "cb.ax.tick_params(labelsize=14)\n",
    "\n",
    "plt.title('Correlation Matrix', fontsize = 24, y = 1.2);"
   ]
  }
 ],
 "metadata": {
  "kernelspec": {
   "display_name": "Python 3",
   "language": "python",
   "name": "python3"
  },
  "language_info": {
   "codemirror_mode": {
    "name": "ipython",
    "version": 3
   },
   "file_extension": ".py",
   "mimetype": "text/x-python",
   "name": "python",
   "nbconvert_exporter": "python",
   "pygments_lexer": "ipython3",
   "version": "3.7.4"
  }
 },
 "nbformat": 4,
 "nbformat_minor": 4
}
